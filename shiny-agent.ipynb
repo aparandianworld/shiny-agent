{
 "cells": [
  {
   "cell_type": "code",
   "execution_count": 4,
   "id": "c8904c4c",
   "metadata": {},
   "outputs": [],
   "source": [
    "from langchain_core.tools import tool\n",
    "\n",
    "@tool\n",
    "def calculate_sum(x: int, y: int) -> int:\n",
    "    \"\"\"Calculate the sum of two integers.\"\"\"\n",
    "    return x + y\n",
    "\n",
    "@tool\n",
    "def calculate_difference(x: int, y: int) -> int:\n",
    "    \"\"\"Calculate the difference of two integers.\"\"\"\n",
    "    return x - y\n"
   ]
  },
  {
   "cell_type": "code",
   "execution_count": 10,
   "id": "a10a8276",
   "metadata": {},
   "outputs": [
    {
     "name": "stdout",
     "output_type": "stream",
     "text": [
      "Client initialized successfully!\n",
      "Model: gpt-4.1-mini\n",
      "Base URL: https://api.openai.com/v1\n"
     ]
    }
   ],
   "source": [
    "import os\n",
    "from dotenv import load_dotenv, find_dotenv\n",
    "from openai import OpenAI\n",
    "\n",
    "load_dotenv(find_dotenv())\n",
    "\n",
    "api_key = os.getenv(\"OPENAI_API_KEY\")\n",
    "base_url = os.getenv(\"OPENAI_BASE_URL\") or \"https://api.openai.com/v1\"\n",
    "model = os.getenv(\"OPENAI_MODEL\") or \"gpt-4o-mini\"\n",
    "\n",
    "if api_key:\n",
    "    client = OpenAI(api_key=api_key, base_url=base_url)\n",
    "    print(f\"Client initialized successfully!\")\n",
    "    print(f\"Model: {model}\")\n",
    "    print(f\"Base URL: {base_url}\")\n",
    "else:\n",
    "    print(\"API key not found in environment variables\")"
   ]
  }
 ],
 "metadata": {
  "kernelspec": {
   "display_name": ".venv",
   "language": "python",
   "name": "python3"
  },
  "language_info": {
   "codemirror_mode": {
    "name": "ipython",
    "version": 3
   },
   "file_extension": ".py",
   "mimetype": "text/x-python",
   "name": "python",
   "nbconvert_exporter": "python",
   "pygments_lexer": "ipython3",
   "version": "3.10.12"
  }
 },
 "nbformat": 4,
 "nbformat_minor": 5
}
