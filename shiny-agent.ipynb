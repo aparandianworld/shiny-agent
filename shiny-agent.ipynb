{
 "cells": [
  {
   "cell_type": "code",
   "execution_count": null,
   "id": "c8904c4c",
   "metadata": {},
   "outputs": [],
   "source": [
    "from langchain_core.tools import tool\n",
    "\n",
    "@tool\n",
    "def calculate_sum(x: int, y: int) -> int:\n",
    "    \"\"\"Calculate the sum of two integers.\"\"\"\n",
    "    return x + y\n",
    "\n",
    "@tool\n",
    "def calculate_difference(x: int, y: int) -> int:\n",
    "    \"\"\"Calculate the difference of two integers.\"\"\"\n",
    "    return x - y\n"
   ]
  }
 ],
 "metadata": {
  "kernelspec": {
   "display_name": ".venv",
   "language": "python",
   "name": "python3"
  },
  "language_info": {
   "name": "python",
   "version": "3.10.12"
  }
 },
 "nbformat": 4,
 "nbformat_minor": 5
}
