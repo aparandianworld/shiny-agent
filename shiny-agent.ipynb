{
 "cells": [
  {
   "cell_type": "code",
   "execution_count": 58,
   "id": "c8904c4c",
   "metadata": {},
   "outputs": [],
   "source": [
    "from langchain_core.tools import tool\n",
    "\n",
    "@tool\n",
    "def calculate_sum(numbers: list[int]) -> int:\n",
    "    \"\"\"Calculate the sum of two integers.\"\"\"\n",
    "    return sum(numbers)\n",
    "\n",
    "@tool\n",
    "def calculate_product(numbers: list[int]) -> int:\n",
    "    \"\"\"Calculate the product of two integers.\"\"\"\n",
    "    result = 1\n",
    "    for number in numbers:\n",
    "        result *= number\n",
    "    return result\n",
    "        \n"
   ]
  },
  {
   "cell_type": "code",
   "execution_count": 59,
   "id": "a10a8276",
   "metadata": {},
   "outputs": [
    {
     "name": "stdout",
     "output_type": "stream",
     "text": [
      "Client initialized successfully!\n",
      "Model: gpt-4.1-mini\n",
      "Base URL: https://api.openai.com/v1\n"
     ]
    }
   ],
   "source": [
    "import os\n",
    "from dotenv import load_dotenv, find_dotenv\n",
    "from langchain_openai import ChatOpenAI\n",
    "\n",
    "load_dotenv(find_dotenv())\n",
    "\n",
    "api_key = os.getenv(\"OPENAI_API_KEY\")\n",
    "base_url = os.getenv(\"OPENAI_BASE_URL\") or \"https://api.openai.com/v1\"\n",
    "model = os.getenv(\"OPENAI_MODEL\") or \"gpt-4o-mini\"\n",
    "\n",
    "if api_key:\n",
    "    llm = ChatOpenAI(\n",
    "        api_key=api_key, \n",
    "        base_url=base_url, \n",
    "        model_name=model,\n",
    "        temperature=0.0,\n",
    "    )\n",
    "    print(f\"Client initialized successfully!\")\n",
    "    print(f\"Model: {model}\")\n",
    "    print(f\"Base URL: {base_url}\")\n",
    "else:\n",
    "    print(\"API key not found in environment variables\")"
   ]
  },
  {
   "cell_type": "code",
   "execution_count": 60,
   "id": "dddcedaa",
   "metadata": {},
   "outputs": [
    {
     "name": "stdout",
     "output_type": "stream",
     "text": [
      "\n",
      "\n",
      "\u001b[1m> Entering new AgentExecutor chain...\u001b[0m\n"
     ]
    },
    {
     "name": "stderr",
     "output_type": "stream",
     "text": [
      "/Users/aparandian/Documents/codespaces/shiny-agent/.venv/lib/python3.10/site-packages/langsmith/client.py:256: LangSmithMissingAPIKeyWarning: API key must be provided when using hosted LangSmith API\n",
      "  warnings.warn(\n"
     ]
    },
    {
     "name": "stdout",
     "output_type": "stream",
     "text": [
      "\u001b[32;1m\u001b[1;3mThought: I need to add the numbers 2 and 3.\n",
      "Action: calculate_sum\n",
      "Action Input: [2, 3]\u001b[0mError: 1 validation error for calculate_sum\n",
      "numbers\n",
      "  Input should be a valid list [type=list_type, input_value='[2, 3]', input_type=str]\n",
      "    For further information visit https://errors.pydantic.dev/2.11/v/list_type\n"
     ]
    }
   ],
   "source": [
    "from langchain.agents import AgentExecutor, create_react_agent\n",
    "from langchain_core.prompts import PromptTemplate\n",
    "from langchain import hub\n",
    "\n",
    "\n",
    "tools = [calculate_sum, calculate_product]\n",
    "prompt = hub.pull(\"hwchase17/react\")\n",
    "\n",
    "agent = create_react_agent(\n",
    "    llm=llm, \n",
    "    tools=tools,\n",
    "    prompt=prompt\n",
    ")\n",
    "\n",
    "agent_executor = AgentExecutor(\n",
    "    agent=agent,\n",
    "    tools=tools,\n",
    "    verbose=True,\n",
    "    handle_parsing_errors=True\n",
    ")\n",
    "\n",
    "try:\n",
    "    result = agent_executor.invoke({\n",
    "        \"input\": \"can you add the numbers 2 and 3?\"\n",
    "    })\n",
    "    print(f\"Final result: {result['output']}\")\n",
    "except Exception as e:\n",
    "    print(f\"Error: {e}\")\n"
   ]
  }
 ],
 "metadata": {
  "kernelspec": {
   "display_name": ".venv",
   "language": "python",
   "name": "python3"
  },
  "language_info": {
   "codemirror_mode": {
    "name": "ipython",
    "version": 3
   },
   "file_extension": ".py",
   "mimetype": "text/x-python",
   "name": "python",
   "nbconvert_exporter": "python",
   "pygments_lexer": "ipython3",
   "version": "3.10.12"
  }
 },
 "nbformat": 4,
 "nbformat_minor": 5
}
